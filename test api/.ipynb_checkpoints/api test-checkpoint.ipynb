{
 "cells": [
  {
   "cell_type": "code",
   "execution_count": null,
   "metadata": {},
   "outputs": [],
   "source": [
    "import investpy\n",
    "import datetime\n",
    "import matplotlib.pyplot as plt\n",
    "import pandas as pd\n",
    "\n",
    "from mplfinance.original_flavor import candlestick_ohlc\n",
    "import matplotlib.dates as mpl_dates\n"
   ]
  },
  {
   "cell_type": "code",
   "execution_count": null,
   "metadata": {},
   "outputs": [],
   "source": [
    "#import finplot as fplt"
   ]
  },
  {
   "cell_type": "code",
   "execution_count": 3,
   "metadata": {},
   "outputs": [
    {
     "data": {
      "text/plain": [
       "datetime.datetime(2021, 6, 20, 13, 5, 15, 709210)"
      ]
     },
     "execution_count": 3,
     "metadata": {},
     "output_type": "execute_result"
    }
   ],
   "source": [
    "t = datetime.datetime.now()\n",
    "#t.strftime('%d/%m/%Y')\n",
    "t"
   ]
  },
  {
   "cell_type": "code",
   "execution_count": null,
   "metadata": {},
   "outputs": [],
   "source": [
    "search_result = investpy.search_quotes(text='gold', products=['commodities'],\n",
    "                                       countries=['united states'])\n",
    "print(search_result[0])"
   ]
  },
  {
   "cell_type": "code",
   "execution_count": 24,
   "metadata": {},
   "outputs": [
    {
     "name": "stdout",
     "output_type": "stream",
     "text": [
      "              Open    High     Low   Close     Volume  Change Pct\n",
      "Date                                                             \n",
      "2021-06-14  127.70  130.48  127.10  130.48   96906488        2.46\n",
      "2021-06-15  130.07  130.59  129.41  129.64   62746332       -0.64\n",
      "2021-06-16  130.26  130.89  128.49  130.15   91815024        0.39\n",
      "2021-06-17  129.94  132.54  129.66  131.79   96721672        1.26\n",
      "2021-06-18  130.71  131.51  130.24  130.46  108953000       -1.01\n",
      "DatetimeIndex(['2021-06-14', '2021-06-15', '2021-06-16', '2021-06-17',\n",
      "               '2021-06-18'],\n",
      "              dtype='datetime64[ns]', name='Date', freq=None)\n"
     ]
    },
    {
     "ename": "AttributeError",
     "evalue": "'function' object has no attribute 'plot'",
     "output_type": "error",
     "traceback": [
      "\u001b[1;31m---------------------------------------------------------------------------\u001b[0m",
      "\u001b[1;31mAttributeError\u001b[0m                            Traceback (most recent call last)",
      "\u001b[1;32m<ipython-input-24-f6c2a369898a>\u001b[0m in \u001b[0;36m<module>\u001b[1;34m\u001b[0m\n\u001b[0;32m     19\u001b[0m \u001b[1;31m# gca stands for 'get current axis'\u001b[0m\u001b[1;33m\u001b[0m\u001b[1;33m\u001b[0m\u001b[1;33m\u001b[0m\u001b[0m\n\u001b[0;32m     20\u001b[0m \u001b[0max\u001b[0m \u001b[1;33m=\u001b[0m \u001b[0mplt\u001b[0m\u001b[1;33m.\u001b[0m\u001b[0mgca\u001b[0m\u001b[1;33m(\u001b[0m\u001b[1;33m)\u001b[0m\u001b[1;33m\u001b[0m\u001b[1;33m\u001b[0m\u001b[0m\n\u001b[1;32m---> 21\u001b[1;33m \u001b[0mdf\u001b[0m\u001b[1;33m.\u001b[0m\u001b[0mhead\u001b[0m\u001b[1;33m.\u001b[0m\u001b[0mplot\u001b[0m\u001b[1;33m(\u001b[0m\u001b[0mkind\u001b[0m\u001b[1;33m=\u001b[0m\u001b[1;34m'line'\u001b[0m\u001b[1;33m,\u001b[0m\u001b[0mx\u001b[0m\u001b[1;33m=\u001b[0m\u001b[1;34m'date'\u001b[0m\u001b[1;33m,\u001b[0m\u001b[0my\u001b[0m\u001b[1;33m=\u001b[0m\u001b[1;34m'Open'\u001b[0m\u001b[1;33m,\u001b[0m \u001b[0mcolor\u001b[0m\u001b[1;33m=\u001b[0m\u001b[1;34m'red'\u001b[0m\u001b[1;33m,\u001b[0m \u001b[0max\u001b[0m\u001b[1;33m=\u001b[0m\u001b[0max\u001b[0m\u001b[1;33m)\u001b[0m\u001b[1;33m\u001b[0m\u001b[1;33m\u001b[0m\u001b[0m\n\u001b[0m\u001b[0;32m     22\u001b[0m \u001b[1;31m#style1 = {'grid.linewidth': '0.8', 'grid.alpha':'0.5', 'grid.linestyle': 'solid', 'grid.color':     'b6b7b0'}\u001b[0m\u001b[1;33m\u001b[0m\u001b[1;33m\u001b[0m\u001b[1;33m\u001b[0m\u001b[0m\n\u001b[0;32m     23\u001b[0m \u001b[0mplt\u001b[0m\u001b[1;33m.\u001b[0m\u001b[0mstyle\u001b[0m\u001b[1;33m.\u001b[0m\u001b[0muse\u001b[0m\u001b[1;33m(\u001b[0m\u001b[1;34m'classic'\u001b[0m\u001b[1;33m)\u001b[0m\u001b[1;33m\u001b[0m\u001b[1;33m\u001b[0m\u001b[0m\n",
      "\u001b[1;31mAttributeError\u001b[0m: 'function' object has no attribute 'plot'"
     ]
    },
    {
     "data": {
      "image/png": "[encoded data removed]",
      "text/plain": [
       "<Figure size 432x288 with 1 Axes>"
      ]
     },
     "metadata": {
      "needs_background": "light"
     },
     "output_type": "display_data"
    }
   ],
   "source": [
    "# information = search_result[1].retrieve_information()\n",
    "# print(information)\n",
    "#recent_data = search_result[1].retrieve_recent_data()\n",
    "#print(recent_data.head())\n",
    "t2=datetime.datetime.now()\n",
    "#t1= datetime.datetime(t2.year, t2.month, t2.day-7, 0, 0)\n",
    "t1 = (datetime.datetime.timestamp(t2)-86400*7)\n",
    "t1 = datetime.datetime.fromtimestamp(t1)\n",
    "df = search_result[0].retrieve_historical_data(\n",
    "                                        from_date=t1.strftime('%d/%m/%Y'),\n",
    "                                        to_date=t2.strftime('%d/%m/%Y'))\n",
    "print(df.head())\n",
    "a =df.iloc[[-1]].iloc[0]\n",
    "print(df.axes[0])\n",
    "#print(a.array)\n",
    "\n",
    "\n",
    "df['date'] = df.index\n",
    "# gca stands for 'get current axis'\n",
    "ax = plt.gca()\n",
    "df.head.plot(kind='line',x='date',y='Open', color='red', ax=ax)\n",
    "#style1 = {'grid.linewidth': '0.8', 'grid.alpha':'0.5', 'grid.linestyle': 'solid', 'grid.color':     'b6b7b0'}\n",
    "plt.style.use('classic')\n",
    "#plt.style.use(style1)\n",
    "#plt.grid()\n",
    "plt.grid(color='grey', linestyle='-', linewidth=2)\n",
    "plt.show()\n",
    "df.head()"
   ]
  },
  {
   "cell_type": "code",
   "execution_count": 21,
   "metadata": {},
   "outputs": [
    {
     "name": "stdout",
     "output_type": "stream",
     "text": [
      "USD\n"
     ]
    }
   ],
   "source": [
    "default_currency = search_result.retrieve_currency()\n",
    "print(default_currency)"
   ]
  },
  {
   "cell_type": "code",
   "execution_count": 56,
   "metadata": {},
   "outputs": [
    {
     "name": "stdout",
     "output_type": "stream",
     "text": [
      "         country            name               full_name          isin  \\\n",
      "0  united states          Boeing               Boeing Co  US0970231058   \n",
      "1  united states  General Motors  General Motors Company  US37045V1008   \n",
      "2  united states         Chevron            Chevron Corp  US1667641005   \n",
      "\n",
      "  currency symbol  \n",
      "0      USD     BA  \n",
      "1      USD     GM  \n",
      "2      USD    CVX  \n"
     ]
    }
   ],
   "source": [
    "search_result = investpy.get_stocks(country='united states')\n",
    "print(search_result.iloc[range(0,3)])\n",
    "part1 = search_result.iloc[range(0,3)]\n",
    "print(part1)"
   ]
  },
  {
   "cell_type": "code",
   "execution_count": 43,
   "metadata": {},
   "outputs": [
    {
     "name": "stdout",
     "output_type": "stream",
     "text": [
      "['argentina', 'brazil', 'canada', 'chile', 'colombia', 'costa rica', 'jamaica', 'mexico', 'peru', 'united states', 'venezuela', 'austria', 'belgium', 'bosnia', 'bulgaria', 'croatia', 'cyprus', 'czech republic', 'denmark', 'finland', 'france', 'germany', 'greece', 'hungary', 'iceland', 'ireland', 'italy', 'luxembourg', 'malta', 'montenegro', 'netherlands', 'norway', 'poland', 'portugal', 'romania', 'russia', 'serbia', 'slovakia', 'slovenia', 'spain', 'sweden', 'switzerland', 'turkey', 'ukraine', 'united kingdom', 'australia', 'bangladesh', 'china', 'hong kong', 'india', 'indonesia', 'japan', 'kazakhstan', 'malaysia', 'mongolia', 'new zealand', 'pakistan', 'philippines', 'singapore', 'south korea', 'sri lanka', 'taiwan', 'thailand', 'vietnam', 'bahrain', 'egypt', 'iraq', 'israel', 'jordan', 'kuwait', 'lebanon', 'oman', 'palestine', 'qatar', 'saudi arabia', 'dubai', 'botswana', 'ivory coast', 'kenya', 'malawi', 'mauritius', 'morocco', 'namibia', 'nigeria', 'rwanda', 'south africa', 'tanzania', 'tunisia', 'uganda', 'zambia', 'zimbabwe']\n"
     ]
    }
   ],
   "source": [
    "search_result = investpy.get_stock_countries()\n",
    "print(search_result)"
   ]
  },
  {
   "cell_type": "code",
   "execution_count": null,
   "metadata": {},
   "outputs": [],
   "source": [
    "search_result = investpy.search_quotes(text='s&p', products=['funds'],\n",
    "                                       countries=['united states'], n_results=3)\n",
    "print(search_result[0])\n",
    "print(search_result[1])\n",
    "print(search_result[2])"
   ]
  },
  {
   "cell_type": "code",
   "execution_count": 73,
   "metadata": {},
   "outputs": [
    {
     "name": "stdout",
     "output_type": "stream",
     "text": [
      "              Open    High     Low   Close     Volume  Change Pct       Date\n",
      "Date                                                                        \n",
      "2021-06-14  127.70  130.48  127.10  130.48   96906488        2.46 2021-06-14\n",
      "2021-06-15  130.07  130.59  129.41  129.64   62746332       -0.64 2021-06-15\n",
      "2021-06-16  130.26  130.89  128.49  130.15   91815024        0.39 2021-06-16\n",
      "2021-06-17  129.94  132.54  129.66  131.79   96721672        1.26 2021-06-17\n",
      "2021-06-18  130.71  131.51  130.24  130.46  108953000       -1.01 2021-06-18\n"
     ]
    },
    {
     "data": {
      "image/png": "[encoded data removed]",
      "text/plain": [
       "<Figure size 640x480 with 1 Axes>"
      ]
     },
     "metadata": {},
     "output_type": "display_data"
    }
   ],
   "source": [
    "t2=datetime.datetime.now()\n",
    "t1= datetime.datetime(t2.year, t2.month, t2.day-7, 0, 0)\n",
    "df = search_result[0].retrieve_historical_data(\n",
    "                                        from_date=t1.strftime('%d/%m/%Y'),\n",
    "                                        to_date=t2.strftime('%d/%m/%Y'))\n",
    "df['Date'] = df.index\n",
    "print(df.head())\n",
    "data = df\n",
    "ohlc = data.loc[:, ['Date', 'Open', 'High', 'Low', 'Close']]\n",
    "ohlc['Date'] = pd.to_datetime(ohlc['Date'])\n",
    "ohlc['Date'] = ohlc['Date'].apply(mpl_dates.date2num)\n",
    "ohlc = ohlc.astype(float)\n",
    "\n",
    "fig, ax = plt.subplots()\n",
    "\n",
    "candlestick_ohlc(ax, ohlc.values, width=0.6, colorup='green', colordown='red', alpha=0.8)\n",
    "\n",
    "#Setting labels & titles\n",
    "ax.set_xlabel('Date')\n",
    "ax.set_ylabel('Price')\n",
    "fig.suptitle('Candlestick Chart of %Paper%')\n",
    "\n",
    "#Formatting Date\n",
    "date_format = mpl_dates.DateFormatter('%d-%m-%Y')\n",
    "ax.xaxis.set_major_formatter(date_format)\n",
    "fig.autofmt_xdate()\n",
    "\n",
    "fig.tight_layout()\n",
    "plt.grid()\n",
    "plt.show()"
   ]
  },
  {
   "cell_type": "code",
   "execution_count": null,
   "metadata": {},
   "outputs": [],
   "source": [
    "\n",
    "#df = pd.read_csv(\"<data-path.csv>\")\n",
    "search_result = investpy.search_quotes(text='apple', products=['stocks'],\n",
    "                                       countries=['united states'])\n",
    "t2=datetime.datetime.now()\n",
    "t1= datetime.datetime(t2.year, t2.month, t2.day-7, 0, 0)\n",
    "df = search_result[0].retrieve_historical_data(\n",
    "                                        from_date=t1.strftime('%d/%m/%Y'),\n",
    "                                        to_date=t2.strftime('%d/%m/%Y'))\n",
    "df['date'] = df.index\n",
    "print(df.head())\n",
    "# fplt.candlestick_ochl(df[['Open', 'Close', 'High', 'Low']])\n",
    "# fplt.show()"
   ]
  },
  {
   "cell_type": "code",
   "execution_count": null,
   "metadata": {},
   "outputs": [],
   "source": []
  }
 ],
 "metadata": {
  "kernelspec": {
   "display_name": "Python 3",
   "language": "python",
   "name": "python3"
  },
  "language_info": {
   "codemirror_mode": {
    "name": "ipython",
    "version": 3
   },
   "file_extension": ".py",
   "mimetype": "text/x-python",
   "name": "python",
   "nbconvert_exporter": "python",
   "pygments_lexer": "ipython3",
   "version": "3.8.5"
  }
 },
 "nbformat": 4,
 "nbformat_minor": 4
}
